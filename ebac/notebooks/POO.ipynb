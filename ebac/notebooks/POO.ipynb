{
  "nbformat": 4,
  "nbformat_minor": 0,
  "metadata": {
    "colab": {
      "name": "POO",
      "provenance": [],
      "collapsed_sections": []
    },
    "kernelspec": {
      "name": "python3",
      "display_name": "Python 3"
    },
    "language_info": {
      "name": "python"
    }
  },
  "cells": [
    {
      "cell_type": "code",
      "execution_count": 5,
      "metadata": {
        "colab": {
          "base_uri": "https://localhost:8080/"
        },
        "id": "5jK-iww23rH3",
        "outputId": "0f1928c6-bd20-43f7-eb7d-75b91dd6b8d2"
      },
      "outputs": [
        {
          "output_type": "stream",
          "name": "stdout",
          "text": [
            "Overwriting carros.csv\n"
          ]
        }
      ],
      "source": [
        "%%writefile carros.csv\n",
        "id,valor_venda,valor_manutencao,portas,pessoas,porta_malas\n",
        "1,vhigh,med,2,2,small\n",
        "2,med,vhigh,2,2,small\n",
        "3,low,vhigh,2,2,small\n",
        "4,low,high,2,2,small\n",
        "5,low,high,2,2,small\n",
        "6,low,high,4,4,big\n",
        "7,low,high,4,4,big\n",
        "8,low,med,2,2,small\n",
        "9,low,med,2,2,small\n",
        "10,low,med,2,2,small\n",
        "11,low,med,4,4,big\n",
        "12,low,low,2,2,small\n",
        "13,low,low,4,4,small\n",
        "14,low,low,4,4,med"
      ]
    },
    {
      "cell_type": "code",
      "source": [
        "%%writefile musica.txt\n",
        "Roda Viva\n",
        "Chico Buarque\n",
        "\n",
        "Tem dias que a gente se sente\n",
        "Como quem partiu ou morreu\n",
        "A gente estancou de repente\n",
        "Ou foi o mundo então que cresceu\n",
        "A gente quer ter voz ativa\n",
        "No nosso destino mandar\n",
        "Mas eis que chega a roda viva\n",
        "E carrega o destino pra lá\n",
        "\n",
        "Roda mundo, roda-gigante\n",
        "Roda moinho, roda pião\n",
        "\n",
        "O tempo rodou num instante\n",
        "Nas voltas do meu coração\n",
        "A gente vai contra a corrente\n",
        "Até não poder resistir\n",
        "Na volta do barco é que sente\n",
        "O quanto deixou de cumprir\n",
        "Faz tempo que a gente cultiva\n",
        "A mais linda roseira que há\n",
        "Mas eis que chega a roda viva\n",
        "E carrega a roseira pra lá\n",
        "\n",
        "Roda mundo, roda-gigante\n",
        "Roda moinho, roda pião"
      ],
      "metadata": {
        "colab": {
          "base_uri": "https://localhost:8080/"
        },
        "id": "aevdqKsS4AaE",
        "outputId": "a57eac17-26a3-4d74-f941-bceedcace054"
      },
      "execution_count": 6,
      "outputs": [
        {
          "output_type": "stream",
          "name": "stdout",
          "text": [
            "Writing musica.txt\n"
          ]
        }
      ]
    },
    {
      "cell_type": "markdown",
      "source": [
        "#**1. Classe para ler arquivos de texto**#"
      ],
      "metadata": {
        "id": "vlNECmWUDegf"
      }
    },
    {
      "cell_type": "code",
      "source": [
        "class ArquivoTexto(object):\n",
        "  def __init__(self, arquivo: str):\n",
        "    self.arquivo = arquivo\n",
        "    self.conteudo = self.conteudo()\n",
        "\n",
        "  def conteudo(self):\n",
        "    self.musica = [] \n",
        "    with open (file = self.arquivo, mode = 'r', encoding = 'utf8') as arquivo: \n",
        "      conteudoMusica = arquivo.readline()\n",
        "      while conteudoMusica:\n",
        "        self.musica.append(conteudoMusica)\n",
        "        conteudoMusica = arquivo.readline()\n",
        "      return self.musica\n",
        "\n",
        "  def extrair_linha(self, numero_linha: int):\n",
        "    linhaTexto = []\n",
        "    i = 1\n",
        "    for linha in self.musica: \n",
        "      #print(linha)\n",
        "      if i == numero_linha: \n",
        "        linhaTexto.append(linha)\n",
        "      i += 1\n",
        "    return linhaTexto"
      ],
      "metadata": {
        "id": "zyc_Xi884Skq"
      },
      "execution_count": 128,
      "outputs": []
    },
    {
      "cell_type": "code",
      "source": [
        "arquivo_texto = ArquivoTexto(arquivo = 'musica.txt')\n",
        "numero_linha = 1\n",
        "print(arquivo_texto.extrair_linha(numero_linha = numero_linha))\n",
        "# Roda Viva\n",
        "numero_linha = 10\n",
        "print(arquivo_texto.extrair_linha(numero_linha = numero_linha))\n",
        "# Mas eis que chega a roda viva\n"
      ],
      "metadata": {
        "colab": {
          "base_uri": "https://localhost:8080/"
        },
        "id": "di_xsVjC7d5t",
        "outputId": "ec102eb0-a27a-41eb-d1ba-67d81384e87f"
      },
      "execution_count": 129,
      "outputs": [
        {
          "output_type": "stream",
          "name": "stdout",
          "text": [
            "['Roda Viva\\n']\n",
            "['Mas eis que chega a roda viva\\n']\n"
          ]
        }
      ]
    },
    {
      "cell_type": "markdown",
      "source": [
        "#**2. Classe para ler arquivos de csv**#"
      ],
      "metadata": {
        "id": "tZQXdA_RDmNO"
      }
    },
    {
      "cell_type": "code",
      "source": [
        "class ArquivoCSV(ArquivoTexto):\n",
        " def __init__(self, arquivo: str):\n",
        "    super().__init__(arquivo)\n",
        "    self.colunas = []\n",
        "    self.numero_coluna = numero_coluna\n",
        "    self.linhas = self.extrair_coluna_da_linha(numero_linha, numero_coluna)\n",
        "\n",
        " def extrair_coluna_da_linha(self, numero_linha: int, numero_coluna: int):\n",
        "    cabecalho = self.extrair_linha(1)\n",
        "    self.colunas.append(cabecalho)\n",
        "    linha = self.extrair_linha(numero_linha)\n",
        "    #print(linha)\n",
        "    colunaStr = \"\".join(linha)    \n",
        "    coluna = colunaStr.split(sep = ',')\n",
        "    coluna = coluna[numero_coluna - 1]\n",
        "    return coluna\n",
        "  \n"
      ],
      "metadata": {
        "id": "gg1oSQRYDqJN"
      },
      "execution_count": 221,
      "outputs": []
    },
    {
      "cell_type": "code",
      "source": [
        "arquivo_csv = ArquivoCSV(arquivo='carros.csv')\n",
        "numero_linha = 1\n",
        "print(f'{arquivo_csv.extrair_linha(numero_linha = numero_linha)}\\n')\n",
        "# id,valor_venda,valor_manutencao,portas,pessoas,porta_malas\n",
        "\n",
        "print(f'{arquivo_csv.colunas}\\n')\n",
        "# [\n",
        "# 'id',\n",
        "# 'valor_venda',\n",
        "# 'valor_manutencao',\n",
        "# 'portas',\n",
        "# 'pessoas',\n",
        "# 'porta_malas'\n",
        "# ]\n",
        "\n",
        "numero_linha = 10\n",
        "print(f'{arquivo_csv.extrair_linha(numero_linha = numero_linha)}\\n')\n",
        "# 9,low,med,2,2,small\n",
        "\n",
        "numero_linha = 10\n",
        "numero_coluna = 2\n",
        "print(\n",
        " arquivo_csv.extrair_coluna_da_linha(\n",
        " numero_linha = numero_linha,\n",
        " numero_coluna = numero_coluna,\n",
        " )\n",
        ")\n",
        "# low\n"
      ],
      "metadata": {
        "colab": {
          "base_uri": "https://localhost:8080/"
        },
        "id": "ayMahBCXE2xD",
        "outputId": "caa0aac8-87d1-4f33-d82f-63cd06dba035"
      },
      "execution_count": 230,
      "outputs": [
        {
          "output_type": "stream",
          "name": "stdout",
          "text": [
            "['id,valor_venda,valor_manutencao,portas,pessoas,porta_malas\\n']\n",
            "\n",
            "[['id,valor_venda,valor_manutencao,portas,pessoas,porta_malas\\n']]\n",
            "\n",
            "['9,low,med,2,2,small\\n']\n",
            "\n",
            "low\n"
          ]
        }
      ]
    }
  ]
}