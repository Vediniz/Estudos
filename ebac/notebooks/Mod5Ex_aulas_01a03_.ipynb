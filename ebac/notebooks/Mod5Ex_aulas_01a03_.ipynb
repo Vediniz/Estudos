{
 "cells": [
  {
   "cell_type": "markdown",
   "metadata": {
    "id": "_kolx1UCReqN"
   },
   "source": [
    "# Módulo 5 Tarefa 1\n",
    "## Base de nascidos vivos do DataSUS\n",
    "O DataSUS disponibiliza diversos arquivos de dados com relação a seus segurados, conforme a [lei da transparência de informações públicas](https://www.sisgov.com/transparencia-acesso-informacao/#:~:text=A%20Lei%20da%20Transpar%C3%AAncia%20(LC,em%20um%20site%20na%20internet.). \n",
    "\n",
    "Essas informações podem ser obtidas pela internet [aqui](http://www2.datasus.gov.br/DATASUS/index.php?area=0901&item=1). Como o processo de obtenção desses arquivos foge um pouco do nosso escopo, deixamos o arquivo ```SINASC_RO_2019.csv``` já como vai ser encontrado no DataSUS. O dicionário de dados está no arquivo ```estrutura_sinasc_para_CD.pdf``` (o nome do arquivo tal qual no portal do DataSUS).\n",
    "\n",
    "### Nosso objetivo\n",
    "Queremos deixar uma base organizada para podermos estudar a relação entre partos com risco para o bebê e algumas condições como tempo de parto, consultas de pré-natal etc.\n",
    "\n",
    "#### Preparação da base\n",
    "1. Carregue a base 'SINASC_RO_2019.csv'. Conte o número de registros e o número de registros não duplicados da base. Dica: você aprendeu um método que remove duplicados, encadeie este método com um outro método que conta o número de linhas. **Há linhas duplicadas?**  \n",
    "\n",
    "2. Conte o número de valores *missing* por variável.  \n",
    "\n",
    "3. Ok, no item anterior você deve ter achado pouco prático ler a informação de tantas variáveis, muitas delas nem devem ser interesantes. Então crie uma seleção dessa base somente com as colunas que interessam. São elas:\n",
    "``` \n",
    "['LOCNASC', 'IDADEMAE', 'ESTCIVMAE', 'ESCMAE', 'QTDFILVIVO', \n",
    "    'GESTACAO', 'GRAVIDEZ', 'CONSULTAS', 'APGAR5'] \n",
    "```\n",
    "Refaça a contagem de valores *missings*.  \n",
    "\n",
    "4. Apgar é uma *nota* que o pediatra dá ao bebê quando nasce de acordo com algumas características associadas principalmente à respiração. Apgar 1 e Apgar 5 são as notas 1 e 5 minutos do nascimento. Apgar5 será a nossa variável de interesse principal. Então remova todos os registros com Apgar5 não preenchido. Para esta seleção, conte novamente o número de linhas e o número de *missings*.  \n",
    "\n",
    "5. observe que as variáveis ```['ESTCIVMAE', 'CONSULTAS']``` possuem o código ```9```, que significa *ignorado*. Vamos assumir que o não preenchido é o mesmo que o código ```9```.<br>\n",
    "6. Substitua os valores faltantes da quantitativa (```QTDFILVIVO```) por zero.  \n",
    "7. Das restantes, decida que valore te parece mais adequado (um 'não preenchido' ou um valor 'mais provável' como no item anterior) e preencha. Justifique. Lembre-se de que tratamento de dados é trabalho do cientista, e que estamos tomando decisões a todo o momento - não há necessariamente certo e errado aqui.  \n",
    "8. O Apgar possui uma classificação indicando se o bebê passou por asfixia:\n",
    "- Entre 8 e 10 está em uma faixa 'normal'. \n",
    "- Entre 6 e 7, significa que o recém-nascido passou por 'asfixia leve'. \n",
    "- Entre 4 e 5 significa 'asfixia moderada'.\n",
    "- Entre 0 e 3 significa 'asfixia severa'.  \n",
    "\n",
    "Crie uma categorização dessa variável com essa codificação e calcule as frequências dessa categorização.  \n",
    "<br>\n",
    "9. Renomeie as variáveis para que fiquem no *snake case*, ou seja, em letras minúsculas, com um *underscore* entre as palávras. Dica: repare que se você não quiser criar um *dataframe* novo, você vai precisar usar a opção ```inplace = True```."
   ]
  },
  {
   "cell_type": "markdown",
   "metadata": {
    "id": "HfZfmRvik65U"
   },
   "source": [
    "**Carregue a base 'SINASC_RO_2019.csv'. Conte o número de registros e o número de registros não duplicados da base. Dica: você aprendeu um método que remove duplicados, encadeie este método com um outro método que conta o número de linhas. Há linhas duplicadas?**"
   ]
  },
  {
   "cell_type": "code",
   "execution_count": 1,
   "metadata": {
    "colab": {
     "base_uri": "https://localhost:8080/",
     "height": 380
    },
    "id": "e91vfsv7ReqX",
    "outputId": "6b6dea8c-cf24-4e48-99f0-0c22c8eb8e4b"
   },
   "outputs": [
    {
     "name": "stdout",
     "output_type": "stream",
     "text": [
      "(27028, 69)\n"
     ]
    },
    {
     "data": {
      "text/plain": [
       "(27028, 69)"
      ]
     },
     "execution_count": 1,
     "metadata": {},
     "output_type": "execute_result"
    }
   ],
   "source": [
    "import pandas as pd\n",
    "import requests\n",
    "import numpy as np\n",
    "\n",
    "# 1) seu código aqui\n",
    "sinasc = pd.read_csv('SINASC_RO_2019.csv')\n",
    "print(sinasc.shape)\n",
    "sinasc.drop_duplicates().shape\n",
    "# Não há duplicados"
   ]
  },
  {
   "cell_type": "markdown",
   "metadata": {
    "id": "oDzvAUKWk964"
   },
   "source": [
    "**Conte o número de valores missing por variável.**\n"
   ]
  },
  {
   "cell_type": "code",
   "execution_count": 2,
   "metadata": {
    "id": "ybEQTZuwReqZ"
   },
   "outputs": [
    {
     "data": {
      "text/plain": [
       "ORIGEM          0\n",
       "CODESTAB      115\n",
       "CODMUNNASC      0\n",
       "LOCNASC         0\n",
       "IDADEMAE        0\n",
       "             ... \n",
       "munResUf        0\n",
       "munResLat       1\n",
       "munResLon       1\n",
       "munResAlt       1\n",
       "munResArea      1\n",
       "Length: 69, dtype: int64"
      ]
     },
     "execution_count": 2,
     "metadata": {},
     "output_type": "execute_result"
    }
   ],
   "source": [
    "# 2) seu código aqui\n",
    "\n",
    "sinasc.isna()\n",
    "sinasc.isnull().sum()"
   ]
  },
  {
   "cell_type": "markdown",
   "metadata": {
    "id": "xRq06uonlAag"
   },
   "source": [
    "**Ok, no item anterior você deve ter achado pouco prático ler a informação de tantas variáveis, muitas delas nem devem ser interesantes. Então crie uma seleção dessa base somente com as colunas que interessam.**\n",
    "\n",
    "**Refaça a contagem de valores missings.**\n",
    "\n",
    "\n"
   ]
  },
  {
   "cell_type": "code",
   "execution_count": 3,
   "metadata": {
    "id": "1-cAhCjpReqa"
   },
   "outputs": [
    {
     "data": {
      "text/plain": [
       "LOCNASC          0\n",
       "IDADEMAE         0\n",
       "ESTCIVMAE      317\n",
       "ESCMAE         312\n",
       "QTDFILVIVO    1573\n",
       "GESTACAO      1232\n",
       "GRAVIDEZ        79\n",
       "CONSULTAS        0\n",
       "APGAR5         103\n",
       "dtype: int64"
      ]
     },
     "execution_count": 3,
     "metadata": {},
     "output_type": "execute_result"
    }
   ],
   "source": [
    "# 3) seu código aqui\n",
    "variaveis = ['LOCNASC', 'IDADEMAE', 'ESTCIVMAE', 'ESCMAE', 'QTDFILVIVO', \n",
    " 'GESTACAO', 'GRAVIDEZ', 'CONSULTAS', 'APGAR5']\n",
    "df = pd.DataFrame(sinasc)\n",
    "df = df[variaveis]\n",
    "df.isnull().sum()\n"
   ]
  },
  {
   "cell_type": "markdown",
   "metadata": {
    "id": "cnKvB4Fvk2nU"
   },
   "source": [
    "**Apgar é uma nota que o pediatra dá ao bebê quando nasce de acordo com algumas características associadas principalmente à respiração. Apgar 1 e Apgar 5 são as notas 1 e 5 minutos do nascimento. Apgar5 será a nossa variável de interesse principal. Então remova todos os registros com Apgar5 não preenchido. Para esta seleção, conte novamente o número de linhas e o número de missings.**"
   ]
  },
  {
   "cell_type": "code",
   "execution_count": 4,
   "metadata": {
    "id": "TQeGoyMSmym8"
   },
   "outputs": [
    {
     "data": {
      "text/plain": [
       "(27028,)"
      ]
     },
     "execution_count": 4,
     "metadata": {},
     "output_type": "execute_result"
    }
   ],
   "source": [
    "df['APGAR5'].shape\n"
   ]
  },
  {
   "cell_type": "code",
   "execution_count": 5,
   "metadata": {
    "id": "YbO0okynReqb"
   },
   "outputs": [
    {
     "name": "stdout",
     "output_type": "stream",
     "text": [
      "NA_Values: 103\n",
      "\n",
      "Nova quantia de NA_Values: 0\n",
      "Linhas: 26925\n"
     ]
    }
   ],
   "source": [
    "# 4) seu código aqui\n",
    "df_APGAR5 = df['APGAR5'].dropna(axis = 0 , how = 'any')\n",
    "print(f\"NA_Values: {df['APGAR5'].isnull().sum()}\")\n",
    "\n",
    "print(f'\\nNova quantia de NA_Values: {df_APGAR5.isnull().sum()}')\n",
    "print(f\"Linhas: {df_APGAR5.count()}\")\n",
    "\n",
    "\n",
    "sinasc['APGAR5'] = df_APGAR5"
   ]
  },
  {
   "cell_type": "markdown",
   "metadata": {
    "id": "_miWWwEario7"
   },
   "source": [
    "**observe que as variáveis ['ESTCIVMAE', 'CONSULTAS'] possuem o código 9, que significa ignorado. Vamos assumir que o não preenchido é o mesmo que o código 9.**"
   ]
  },
  {
   "cell_type": "code",
   "execution_count": 6,
   "metadata": {
    "id": "wLRZsp-PReqc"
   },
   "outputs": [
    {
     "data": {
      "text/plain": [
       "ESTCIVMAE    0\n",
       "CONSULTAS    0\n",
       "dtype: int64"
      ]
     },
     "execution_count": 6,
     "metadata": {},
     "output_type": "execute_result"
    }
   ],
   "source": [
    "# 5) seu código aqui\n",
    "var_cod_9 =  ['ESTCIVMAE', 'CONSULTAS'] \n",
    "df_cod_9 = pd.DataFrame(sinasc)\n",
    "df_cod_9 = df[var_cod_9]\n",
    "\n",
    "df_cod_9 = df_cod_9.replace(9, np.NaN)\n",
    "\n",
    "df_cod_9 = df_cod_9.dropna(axis = 0)\n",
    "\n",
    "sinasc['ESTCIVMAE'] = df_cod_9['ESTCIVMAE']\n",
    "sinasc['CONSULTAS'] = df_cod_9['CONSULTAS']\n",
    "\n",
    "\n",
    "df_cod_9.isnull().sum()\n",
    "\n"
   ]
  },
  {
   "cell_type": "markdown",
   "metadata": {
    "id": "hwNL6B5A_XyJ"
   },
   "source": [
    "**Substitua os valores faltantes da quantitativa (QTDFILVIVO) por zero**"
   ]
  },
  {
   "cell_type": "code",
   "execution_count": 7,
   "metadata": {
    "id": "DZUt2tBmReqd"
   },
   "outputs": [
    {
     "name": "stdout",
     "output_type": "stream",
     "text": [
      "Linhas NAN: 1573\n",
      "Linhas NAN apos tratadas: 0\n"
     ]
    },
    {
     "data": {
      "text/html": [
       "<div>\n",
       "<style scoped>\n",
       "    .dataframe tbody tr th:only-of-type {\n",
       "        vertical-align: middle;\n",
       "    }\n",
       "\n",
       "    .dataframe tbody tr th {\n",
       "        vertical-align: top;\n",
       "    }\n",
       "\n",
       "    .dataframe thead th {\n",
       "        text-align: right;\n",
       "    }\n",
       "</style>\n",
       "<table border=\"1\" class=\"dataframe\">\n",
       "  <thead>\n",
       "    <tr style=\"text-align: right;\">\n",
       "      <th></th>\n",
       "      <th>LOCNASC</th>\n",
       "      <th>IDADEMAE</th>\n",
       "      <th>ESTCIVMAE</th>\n",
       "      <th>ESCMAE</th>\n",
       "      <th>QTDFILVIVO</th>\n",
       "      <th>GESTACAO</th>\n",
       "      <th>GRAVIDEZ</th>\n",
       "      <th>CONSULTAS</th>\n",
       "      <th>APGAR5</th>\n",
       "    </tr>\n",
       "  </thead>\n",
       "  <tbody>\n",
       "    <tr>\n",
       "      <th>0</th>\n",
       "      <td>1</td>\n",
       "      <td>19</td>\n",
       "      <td>5.0</td>\n",
       "      <td>8 a 11 anos</td>\n",
       "      <td>0.0</td>\n",
       "      <td>37 a 41 semanas</td>\n",
       "      <td>Única</td>\n",
       "      <td>4</td>\n",
       "      <td>10.0</td>\n",
       "    </tr>\n",
       "    <tr>\n",
       "      <th>1</th>\n",
       "      <td>1</td>\n",
       "      <td>29</td>\n",
       "      <td>2.0</td>\n",
       "      <td>8 a 11 anos</td>\n",
       "      <td>1.0</td>\n",
       "      <td>37 a 41 semanas</td>\n",
       "      <td>Única</td>\n",
       "      <td>4</td>\n",
       "      <td>9.0</td>\n",
       "    </tr>\n",
       "    <tr>\n",
       "      <th>2</th>\n",
       "      <td>1</td>\n",
       "      <td>37</td>\n",
       "      <td>9.0</td>\n",
       "      <td>8 a 11 anos</td>\n",
       "      <td>2.0</td>\n",
       "      <td>37 a 41 semanas</td>\n",
       "      <td>Única</td>\n",
       "      <td>4</td>\n",
       "      <td>10.0</td>\n",
       "    </tr>\n",
       "    <tr>\n",
       "      <th>3</th>\n",
       "      <td>1</td>\n",
       "      <td>30</td>\n",
       "      <td>5.0</td>\n",
       "      <td>12 anos ou mais</td>\n",
       "      <td>0.0</td>\n",
       "      <td>37 a 41 semanas</td>\n",
       "      <td>Única</td>\n",
       "      <td>3</td>\n",
       "      <td>10.0</td>\n",
       "    </tr>\n",
       "    <tr>\n",
       "      <th>4</th>\n",
       "      <td>1</td>\n",
       "      <td>30</td>\n",
       "      <td>2.0</td>\n",
       "      <td>8 a 11 anos</td>\n",
       "      <td>1.0</td>\n",
       "      <td>37 a 41 semanas</td>\n",
       "      <td>Única</td>\n",
       "      <td>4</td>\n",
       "      <td>10.0</td>\n",
       "    </tr>\n",
       "    <tr>\n",
       "      <th>...</th>\n",
       "      <td>...</td>\n",
       "      <td>...</td>\n",
       "      <td>...</td>\n",
       "      <td>...</td>\n",
       "      <td>...</td>\n",
       "      <td>...</td>\n",
       "      <td>...</td>\n",
       "      <td>...</td>\n",
       "      <td>...</td>\n",
       "    </tr>\n",
       "    <tr>\n",
       "      <th>27023</th>\n",
       "      <td>1</td>\n",
       "      <td>32</td>\n",
       "      <td>2.0</td>\n",
       "      <td>12 anos ou mais</td>\n",
       "      <td>1.0</td>\n",
       "      <td>32 a 36 semanas</td>\n",
       "      <td>Única</td>\n",
       "      <td>4</td>\n",
       "      <td>9.0</td>\n",
       "    </tr>\n",
       "    <tr>\n",
       "      <th>27024</th>\n",
       "      <td>1</td>\n",
       "      <td>19</td>\n",
       "      <td>1.0</td>\n",
       "      <td>8 a 11 anos</td>\n",
       "      <td>0.0</td>\n",
       "      <td>37 a 41 semanas</td>\n",
       "      <td>Única</td>\n",
       "      <td>4</td>\n",
       "      <td>9.0</td>\n",
       "    </tr>\n",
       "    <tr>\n",
       "      <th>27025</th>\n",
       "      <td>1</td>\n",
       "      <td>24</td>\n",
       "      <td>2.0</td>\n",
       "      <td>8 a 11 anos</td>\n",
       "      <td>0.0</td>\n",
       "      <td>37 a 41 semanas</td>\n",
       "      <td>Única</td>\n",
       "      <td>4</td>\n",
       "      <td>10.0</td>\n",
       "    </tr>\n",
       "    <tr>\n",
       "      <th>27026</th>\n",
       "      <td>1</td>\n",
       "      <td>21</td>\n",
       "      <td>2.0</td>\n",
       "      <td>8 a 11 anos</td>\n",
       "      <td>1.0</td>\n",
       "      <td>32 a 36 semanas</td>\n",
       "      <td>Única</td>\n",
       "      <td>4</td>\n",
       "      <td>9.0</td>\n",
       "    </tr>\n",
       "    <tr>\n",
       "      <th>27027</th>\n",
       "      <td>1</td>\n",
       "      <td>18</td>\n",
       "      <td>5.0</td>\n",
       "      <td>8 a 11 anos</td>\n",
       "      <td>1.0</td>\n",
       "      <td>37 a 41 semanas</td>\n",
       "      <td>Única</td>\n",
       "      <td>4</td>\n",
       "      <td>8.0</td>\n",
       "    </tr>\n",
       "  </tbody>\n",
       "</table>\n",
       "<p>27028 rows × 9 columns</p>\n",
       "</div>"
      ],
      "text/plain": [
       "       LOCNASC  IDADEMAE  ESTCIVMAE           ESCMAE  QTDFILVIVO  \\\n",
       "0            1        19        5.0      8 a 11 anos         0.0   \n",
       "1            1        29        2.0      8 a 11 anos         1.0   \n",
       "2            1        37        9.0      8 a 11 anos         2.0   \n",
       "3            1        30        5.0  12 anos ou mais         0.0   \n",
       "4            1        30        2.0      8 a 11 anos         1.0   \n",
       "...        ...       ...        ...              ...         ...   \n",
       "27023        1        32        2.0  12 anos ou mais         1.0   \n",
       "27024        1        19        1.0      8 a 11 anos         0.0   \n",
       "27025        1        24        2.0      8 a 11 anos         0.0   \n",
       "27026        1        21        2.0      8 a 11 anos         1.0   \n",
       "27027        1        18        5.0      8 a 11 anos         1.0   \n",
       "\n",
       "              GESTACAO GRAVIDEZ  CONSULTAS  APGAR5  \n",
       "0      37 a 41 semanas    Única          4    10.0  \n",
       "1      37 a 41 semanas    Única          4     9.0  \n",
       "2      37 a 41 semanas    Única          4    10.0  \n",
       "3      37 a 41 semanas    Única          3    10.0  \n",
       "4      37 a 41 semanas    Única          4    10.0  \n",
       "...                ...      ...        ...     ...  \n",
       "27023  32 a 36 semanas    Única          4     9.0  \n",
       "27024  37 a 41 semanas    Única          4     9.0  \n",
       "27025  37 a 41 semanas    Única          4    10.0  \n",
       "27026  32 a 36 semanas    Única          4     9.0  \n",
       "27027  37 a 41 semanas    Única          4     8.0  \n",
       "\n",
       "[27028 rows x 9 columns]"
      ]
     },
     "execution_count": 7,
     "metadata": {},
     "output_type": "execute_result"
    }
   ],
   "source": [
    "# 6) Seu código aqui\n",
    "print(f\"Linhas NAN: {df['QTDFILVIVO'].isnull().sum()}\")\n",
    "df['QTDFILVIVO'] = df['QTDFILVIVO'].replace(np.NaN, 0)\n",
    "print(f\"Linhas NAN apos tratadas: {df['QTDFILVIVO'].isnull().sum()}\")\n",
    "\n",
    "sinasc['QTDFILVIVO'] = df['QTDFILVIVO']\n",
    "\n",
    "df"
   ]
  },
  {
   "cell_type": "markdown",
   "metadata": {
    "id": "GMLEyX2QAg48"
   },
   "source": [
    "**Das restantes, decida que valore te parece mais adequado (um 'não preenchido' ou um valor 'mais provável' como no item anterior) e preencha. Justifique. Lembre-se de que tratamento de dados é trabalho do cientista, e que estamos tomando decisões a todo o momento - não há necessariamente certo e errado aqui.**"
   ]
  },
  {
   "cell_type": "code",
   "execution_count": 8,
   "metadata": {
    "id": "reX8CFlLReqf"
   },
   "outputs": [
    {
     "name": "stdout",
     "output_type": "stream",
     "text": [
      "79\n"
     ]
    }
   ],
   "source": [
    "# 7) seu código aqui\n",
    "#df_grv = sinasc['GRAVIDEZ']\n",
    "sinasc[sinasc['GRAVIDEZ'] == 'Ignorado'] = np.NaN\n",
    "\n",
    "\n",
    "\n",
    "sinasc['GRAVIDEZ'].dropna(axis = 0, inplace = True)\n",
    "\n",
    "print(sinasc['GRAVIDEZ'].isnull().sum())\n"
   ]
  },
  {
   "cell_type": "code",
   "execution_count": 9,
   "metadata": {},
   "outputs": [
    {
     "name": "stdout",
     "output_type": "stream",
     "text": [
      "49\n",
      "49\n"
     ]
    }
   ],
   "source": [
    "print(sinasc['PARTO'].isnull().sum())\n",
    "\n",
    "sinasc[sinasc['PARTO'] == 'Ignorado'] = np.NaN\n",
    "print(sinasc['PARTO'].isnull().sum())"
   ]
  },
  {
   "cell_type": "markdown",
   "metadata": {},
   "source": [
    "O Apgar possui uma classificação indicando se o bebê passou por asfixia:\n",
    "\n",
    "Entre 8 e 10 está em uma faixa 'normal'.\n",
    "Entre 6 e 7, significa que o recém-nascido passou por 'asfixia leve'.\n",
    "Entre 4 e 5 significa 'asfixia moderada'.\n",
    "Entre 0 e 3 significa 'asfixia severa'.\n",
    "Crie uma categorização dessa variável com essa codificação e calcule as frequências dessa categorização."
   ]
  },
  {
   "cell_type": "code",
   "execution_count": 10,
   "metadata": {
    "id": "mjW23VtMReqh"
   },
   "outputs": [
    {
     "name": "stdout",
     "output_type": "stream",
     "text": [
      "9.0     16076\n",
      "10.0     8393\n",
      "8.0      1994\n",
      "7.0       241\n",
      "6.0        79\n",
      "5.0        45\n",
      "1.0        24\n",
      "4.0        23\n",
      "2.0        18\n",
      "0.0        17\n",
      "3.0        15\n",
      "Name: APGAR5, dtype: int64\n"
     ]
    }
   ],
   "source": [
    "# 8) seu código aqui\n",
    "print(sinasc['APGAR5'].value_counts())\n",
    "\n",
    "sinasc.loc[sinasc['APGAR5'] > 7, ['APGAR_CATEGORIA']] = 'normal'\n",
    "sinasc.loc[(sinasc['APGAR5'] > 5 )& (sinasc['APGAR5'] <= 7), ['APGAR_CATEGORIA']] = 'asfixia leve'\n",
    "sinasc.loc[(sinasc['APGAR5'] > 3) & (sinasc['APGAR5'] <= 5), ['APGAR_CATEGORIA']] = 'asfixia moderada'\n",
    "sinasc.loc[sinasc['APGAR5'] <= 3, ['APGAR_CATEGORIA']] = 'asfixia severa'\n",
    "\n",
    "\n",
    "\n",
    "#sinasc['APGAR5'].tail(50)"
   ]
  },
  {
   "cell_type": "code",
   "execution_count": 11,
   "metadata": {
    "scrolled": true
   },
   "outputs": [
    {
     "name": "stdout",
     "output_type": "stream",
     "text": [
      "normal              26463\n",
      "asfixia leve          320\n",
      "asfixia severa         74\n",
      "asfixia moderada       68\n",
      "Name: APGAR_CATEGORIA, dtype: int64\n"
     ]
    }
   ],
   "source": [
    "print(sinasc['APGAR_CATEGORIA'].value_counts())\n"
   ]
  },
  {
   "cell_type": "markdown",
   "metadata": {},
   "source": [
    " Renomeie as variáveis para que fiquem no snake case, ou seja, em letras minúsculas, com um underscore entre as palávras. Dica: repare que se você não quiser criar um dataframe novo, você vai precisar usar a opção inplace = True"
   ]
  },
  {
   "cell_type": "code",
   "execution_count": 30,
   "metadata": {
    "id": "FaTZ6TVeReqj"
   },
   "outputs": [],
   "source": [
    "# 9) seu código aqui\n",
    "\n",
    "'''lista_1 = list(sinasc.columns)\n",
    "print(lista_1)\n",
    "'''\n",
    "lista = ['ORIGEM', 'COD_ESTAB', 'COD_MUN_NASC', \n",
    "          'LOC_NASC', 'IDADE_MAE', 'EST_CIV_MAE', \n",
    "          'ESC_MAE', 'COD_OCUP_MAE', 'QTD_FIL_VIVO', \n",
    "          'QTD_FIL_MORT', 'COD_MUN_RES', 'GESTACAO', \n",
    "          'GRAVIDEZ', 'PARTO', 'CONSULTAS', 'DT_NASC', \n",
    "          'HORA_NASC', 'SEXO', 'APGAR_1', 'APGAR_5', \n",
    "          'RACA_COR', 'PESO', 'ID_ANOMAL', 'DT_CADASTRO', \n",
    "          'COD_ANOMAL', 'NUMERO_LOTE', 'VERSAO_SIST', \n",
    "          'DT_RECEBIM', 'DIF_DATA', 'DT_RECORIGA', 'NATURAL_MAE', \n",
    "          'COD_MUN_NATU', 'COD_UF_NATU', 'ESC_MAE_2010', 'SERIE_SC_MAE', \n",
    "          'DT_NASC_MAE', 'RACA_COR_MAE', 'QTD_GESTANT', 'QTD_PART_NOR', \n",
    "          'QTDPARTCES', 'IDADE_PAI', 'DT_ULT_MENST', 'SEMA_GESTAC', \n",
    "          'TP_MET_ESTIM', 'CONS_PRENAT', 'MES_PRENAT', 'TPA_PRESENT', \n",
    "          'ST_TRAB_PART', 'STCESPARTO', 'TP_NASC_ASSI', 'TP_FUNC_RESP', \n",
    "          'TP_DO_CRESP', 'DT_DECLARAC', 'ESC_MAE_AGR1', 'STD_NEPIDEM', \n",
    "          'ST_DN_NOVA', 'COD_PAIS_RES', 'TP_ROBSON', 'PARIDADE', 'KOTELCHUCK', \n",
    "          'CONTADOR', 'mun_Res_Status', 'mun_Res_Tipo', 'mun_Res_Nome', 'mun_Res_Uf', \n",
    "          'mun_Res_Lat', 'mun_Res_Lon', 'mun_Res_Alt', 'mun_Res_Area', 'APGAR_CATEGORIA']"
   ]
  },
  {
   "cell_type": "code",
   "execution_count": 32,
   "metadata": {},
   "outputs": [
    {
     "name": "stdout",
     "output_type": "stream",
     "text": [
      "['origem', 'cod_estab', 'cod_mun_nasc', 'loc_nasc', 'idade_mae', 'est_civ_mae', 'esc_mae', 'cod_ocup_mae', 'qtd_fil_vivo', 'qtd_fil_mort', 'cod_mun_res', 'gestacao', 'gravidez', 'parto', 'consultas', 'dt_nasc', 'hora_nasc', 'sexo', 'apgar_1', 'apgar_5', 'raca_cor', 'peso', 'id_anomal', 'dt_cadastro', 'cod_anomal', 'numero_lote', 'versao_sist', 'dt_recebim', 'dif_data', 'dt_recoriga', 'natural_mae', 'cod_mun_natu', 'cod_uf_natu', 'esc_mae_2010', 'serie_sc_mae', 'dt_nasc_mae', 'raca_cor_mae', 'qtd_gestant', 'qtd_part_nor', 'qtdpartces', 'idade_pai', 'dt_ult_menst', 'sema_gestac', 'tp_met_estim', 'cons_prenat', 'mes_prenat', 'tpa_present', 'st_trab_part', 'stcesparto', 'tp_nasc_assi', 'tp_func_resp', 'tp_do_cresp', 'dt_declarac', 'esc_mae_agr1', 'std_nepidem', 'st_dn_nova', 'cod_pais_res', 'tp_robson', 'paridade', 'kotelchuck', 'contador', 'mun_res_status', 'mun_res_tipo', 'mun_res_nome', 'mun_res_uf', 'mun_res_lat', 'mun_res_lon', 'mun_res_alt', 'mun_res_area', 'apgar_categoria']\n"
     ]
    },
    {
     "data": {
      "text/html": [
       "<div>\n",
       "<style scoped>\n",
       "    .dataframe tbody tr th:only-of-type {\n",
       "        vertical-align: middle;\n",
       "    }\n",
       "\n",
       "    .dataframe tbody tr th {\n",
       "        vertical-align: top;\n",
       "    }\n",
       "\n",
       "    .dataframe thead th {\n",
       "        text-align: right;\n",
       "    }\n",
       "</style>\n",
       "<table border=\"1\" class=\"dataframe\">\n",
       "  <thead>\n",
       "    <tr style=\"text-align: right;\">\n",
       "      <th></th>\n",
       "      <th>origem</th>\n",
       "      <th>cod_estab</th>\n",
       "      <th>cod_mun_nasc</th>\n",
       "      <th>loc_nasc</th>\n",
       "      <th>idade_mae</th>\n",
       "      <th>est_civ_mae</th>\n",
       "      <th>esc_mae</th>\n",
       "      <th>cod_ocup_mae</th>\n",
       "      <th>qtd_fil_vivo</th>\n",
       "      <th>qtd_fil_mort</th>\n",
       "      <th>...</th>\n",
       "      <th>contador</th>\n",
       "      <th>mun_res_status</th>\n",
       "      <th>mun_res_tipo</th>\n",
       "      <th>mun_res_nome</th>\n",
       "      <th>mun_res_uf</th>\n",
       "      <th>mun_res_lat</th>\n",
       "      <th>mun_res_lon</th>\n",
       "      <th>mun_res_alt</th>\n",
       "      <th>mun_res_area</th>\n",
       "      <th>apgar_categoria</th>\n",
       "    </tr>\n",
       "  </thead>\n",
       "  <tbody>\n",
       "    <tr>\n",
       "      <th>0</th>\n",
       "      <td>1.0</td>\n",
       "      <td>2679477.0</td>\n",
       "      <td>110001.0</td>\n",
       "      <td>1.0</td>\n",
       "      <td>19.0</td>\n",
       "      <td>5.0</td>\n",
       "      <td>8 a 11 anos</td>\n",
       "      <td>NaN</td>\n",
       "      <td>0.0</td>\n",
       "      <td>0.0</td>\n",
       "      <td>...</td>\n",
       "      <td>1.0</td>\n",
       "      <td>ATIVO</td>\n",
       "      <td>MUNIC</td>\n",
       "      <td>Alta Floresta D'Oeste</td>\n",
       "      <td>Rondônia</td>\n",
       "      <td>-11.93554</td>\n",
       "      <td>-61.99982</td>\n",
       "      <td>338.0</td>\n",
       "      <td>7067.025</td>\n",
       "      <td>normal</td>\n",
       "    </tr>\n",
       "    <tr>\n",
       "      <th>1</th>\n",
       "      <td>1.0</td>\n",
       "      <td>2679477.0</td>\n",
       "      <td>110001.0</td>\n",
       "      <td>1.0</td>\n",
       "      <td>29.0</td>\n",
       "      <td>2.0</td>\n",
       "      <td>8 a 11 anos</td>\n",
       "      <td>999992.0</td>\n",
       "      <td>1.0</td>\n",
       "      <td>0.0</td>\n",
       "      <td>...</td>\n",
       "      <td>2.0</td>\n",
       "      <td>ATIVO</td>\n",
       "      <td>MUNIC</td>\n",
       "      <td>Alta Floresta D'Oeste</td>\n",
       "      <td>Rondônia</td>\n",
       "      <td>-11.93554</td>\n",
       "      <td>-61.99982</td>\n",
       "      <td>338.0</td>\n",
       "      <td>7067.025</td>\n",
       "      <td>normal</td>\n",
       "    </tr>\n",
       "    <tr>\n",
       "      <th>2</th>\n",
       "      <td>1.0</td>\n",
       "      <td>2679477.0</td>\n",
       "      <td>110001.0</td>\n",
       "      <td>1.0</td>\n",
       "      <td>37.0</td>\n",
       "      <td>NaN</td>\n",
       "      <td>8 a 11 anos</td>\n",
       "      <td>513205.0</td>\n",
       "      <td>2.0</td>\n",
       "      <td>0.0</td>\n",
       "      <td>...</td>\n",
       "      <td>3.0</td>\n",
       "      <td>ATIVO</td>\n",
       "      <td>MUNIC</td>\n",
       "      <td>Alta Floresta D'Oeste</td>\n",
       "      <td>Rondônia</td>\n",
       "      <td>-11.93554</td>\n",
       "      <td>-61.99982</td>\n",
       "      <td>338.0</td>\n",
       "      <td>7067.025</td>\n",
       "      <td>normal</td>\n",
       "    </tr>\n",
       "    <tr>\n",
       "      <th>3</th>\n",
       "      <td>1.0</td>\n",
       "      <td>2516500.0</td>\n",
       "      <td>110001.0</td>\n",
       "      <td>1.0</td>\n",
       "      <td>30.0</td>\n",
       "      <td>5.0</td>\n",
       "      <td>12 anos ou mais</td>\n",
       "      <td>231205.0</td>\n",
       "      <td>0.0</td>\n",
       "      <td>0.0</td>\n",
       "      <td>...</td>\n",
       "      <td>4.0</td>\n",
       "      <td>ATIVO</td>\n",
       "      <td>MUNIC</td>\n",
       "      <td>Alto Alegre dos Parecis</td>\n",
       "      <td>Rondônia</td>\n",
       "      <td>-12.13178</td>\n",
       "      <td>-61.85308</td>\n",
       "      <td>397.0</td>\n",
       "      <td>3958.273</td>\n",
       "      <td>normal</td>\n",
       "    </tr>\n",
       "    <tr>\n",
       "      <th>4</th>\n",
       "      <td>1.0</td>\n",
       "      <td>2516500.0</td>\n",
       "      <td>110001.0</td>\n",
       "      <td>1.0</td>\n",
       "      <td>30.0</td>\n",
       "      <td>2.0</td>\n",
       "      <td>8 a 11 anos</td>\n",
       "      <td>999992.0</td>\n",
       "      <td>1.0</td>\n",
       "      <td>0.0</td>\n",
       "      <td>...</td>\n",
       "      <td>5.0</td>\n",
       "      <td>ATIVO</td>\n",
       "      <td>MUNIC</td>\n",
       "      <td>Alta Floresta D'Oeste</td>\n",
       "      <td>Rondônia</td>\n",
       "      <td>-11.93554</td>\n",
       "      <td>-61.99982</td>\n",
       "      <td>338.0</td>\n",
       "      <td>7067.025</td>\n",
       "      <td>normal</td>\n",
       "    </tr>\n",
       "    <tr>\n",
       "      <th>...</th>\n",
       "      <td>...</td>\n",
       "      <td>...</td>\n",
       "      <td>...</td>\n",
       "      <td>...</td>\n",
       "      <td>...</td>\n",
       "      <td>...</td>\n",
       "      <td>...</td>\n",
       "      <td>...</td>\n",
       "      <td>...</td>\n",
       "      <td>...</td>\n",
       "      <td>...</td>\n",
       "      <td>...</td>\n",
       "      <td>...</td>\n",
       "      <td>...</td>\n",
       "      <td>...</td>\n",
       "      <td>...</td>\n",
       "      <td>...</td>\n",
       "      <td>...</td>\n",
       "      <td>...</td>\n",
       "      <td>...</td>\n",
       "      <td>...</td>\n",
       "    </tr>\n",
       "    <tr>\n",
       "      <th>27023</th>\n",
       "      <td>1.0</td>\n",
       "      <td>2604388.0</td>\n",
       "      <td>510340.0</td>\n",
       "      <td>1.0</td>\n",
       "      <td>32.0</td>\n",
       "      <td>2.0</td>\n",
       "      <td>12 anos ou mais</td>\n",
       "      <td>333115.0</td>\n",
       "      <td>1.0</td>\n",
       "      <td>0.0</td>\n",
       "      <td>...</td>\n",
       "      <td>2767632.0</td>\n",
       "      <td>ATIVO</td>\n",
       "      <td>MUNIC</td>\n",
       "      <td>Vilhena</td>\n",
       "      <td>Rondônia</td>\n",
       "      <td>-12.74137</td>\n",
       "      <td>-60.13858</td>\n",
       "      <td>595.0</td>\n",
       "      <td>11518.915</td>\n",
       "      <td>normal</td>\n",
       "    </tr>\n",
       "    <tr>\n",
       "      <th>27024</th>\n",
       "      <td>1.0</td>\n",
       "      <td>2752654.0</td>\n",
       "      <td>510675.0</td>\n",
       "      <td>1.0</td>\n",
       "      <td>19.0</td>\n",
       "      <td>1.0</td>\n",
       "      <td>8 a 11 anos</td>\n",
       "      <td>999992.0</td>\n",
       "      <td>0.0</td>\n",
       "      <td>0.0</td>\n",
       "      <td>...</td>\n",
       "      <td>2772678.0</td>\n",
       "      <td>ATIVO</td>\n",
       "      <td>MUNIC</td>\n",
       "      <td>Chupinguaia</td>\n",
       "      <td>Rondônia</td>\n",
       "      <td>-12.55684</td>\n",
       "      <td>-60.90185</td>\n",
       "      <td>340.0</td>\n",
       "      <td>5126.723</td>\n",
       "      <td>normal</td>\n",
       "    </tr>\n",
       "    <tr>\n",
       "      <th>27025</th>\n",
       "      <td>1.0</td>\n",
       "      <td>9659366.0</td>\n",
       "      <td>510787.0</td>\n",
       "      <td>1.0</td>\n",
       "      <td>24.0</td>\n",
       "      <td>2.0</td>\n",
       "      <td>8 a 11 anos</td>\n",
       "      <td>421125.0</td>\n",
       "      <td>0.0</td>\n",
       "      <td>1.0</td>\n",
       "      <td>...</td>\n",
       "      <td>2776905.0</td>\n",
       "      <td>ATIVO</td>\n",
       "      <td>MUNIC</td>\n",
       "      <td>Vilhena</td>\n",
       "      <td>Rondônia</td>\n",
       "      <td>-12.74137</td>\n",
       "      <td>-60.13858</td>\n",
       "      <td>595.0</td>\n",
       "      <td>11518.915</td>\n",
       "      <td>normal</td>\n",
       "    </tr>\n",
       "    <tr>\n",
       "      <th>27026</th>\n",
       "      <td>1.0</td>\n",
       "      <td>9659366.0</td>\n",
       "      <td>510787.0</td>\n",
       "      <td>1.0</td>\n",
       "      <td>21.0</td>\n",
       "      <td>2.0</td>\n",
       "      <td>8 a 11 anos</td>\n",
       "      <td>999992.0</td>\n",
       "      <td>1.0</td>\n",
       "      <td>0.0</td>\n",
       "      <td>...</td>\n",
       "      <td>2777105.0</td>\n",
       "      <td>ATIVO</td>\n",
       "      <td>MUNIC</td>\n",
       "      <td>Vilhena</td>\n",
       "      <td>Rondônia</td>\n",
       "      <td>-12.74137</td>\n",
       "      <td>-60.13858</td>\n",
       "      <td>595.0</td>\n",
       "      <td>11518.915</td>\n",
       "      <td>normal</td>\n",
       "    </tr>\n",
       "    <tr>\n",
       "      <th>27027</th>\n",
       "      <td>1.0</td>\n",
       "      <td>2795655.0</td>\n",
       "      <td>510792.0</td>\n",
       "      <td>1.0</td>\n",
       "      <td>18.0</td>\n",
       "      <td>5.0</td>\n",
       "      <td>8 a 11 anos</td>\n",
       "      <td>999992.0</td>\n",
       "      <td>1.0</td>\n",
       "      <td>0.0</td>\n",
       "      <td>...</td>\n",
       "      <td>2780269.0</td>\n",
       "      <td>ATIVO</td>\n",
       "      <td>MUNIC</td>\n",
       "      <td>Novo Horizonte do Oeste</td>\n",
       "      <td>Rondônia</td>\n",
       "      <td>-11.70974</td>\n",
       "      <td>-61.99439</td>\n",
       "      <td>230.0</td>\n",
       "      <td>843.446</td>\n",
       "      <td>normal</td>\n",
       "    </tr>\n",
       "  </tbody>\n",
       "</table>\n",
       "<p>27028 rows × 70 columns</p>\n",
       "</div>"
      ],
      "text/plain": [
       "       origem  cod_estab  cod_mun_nasc  loc_nasc  idade_mae  est_civ_mae  \\\n",
       "0         1.0  2679477.0      110001.0       1.0       19.0          5.0   \n",
       "1         1.0  2679477.0      110001.0       1.0       29.0          2.0   \n",
       "2         1.0  2679477.0      110001.0       1.0       37.0          NaN   \n",
       "3         1.0  2516500.0      110001.0       1.0       30.0          5.0   \n",
       "4         1.0  2516500.0      110001.0       1.0       30.0          2.0   \n",
       "...       ...        ...           ...       ...        ...          ...   \n",
       "27023     1.0  2604388.0      510340.0       1.0       32.0          2.0   \n",
       "27024     1.0  2752654.0      510675.0       1.0       19.0          1.0   \n",
       "27025     1.0  9659366.0      510787.0       1.0       24.0          2.0   \n",
       "27026     1.0  9659366.0      510787.0       1.0       21.0          2.0   \n",
       "27027     1.0  2795655.0      510792.0       1.0       18.0          5.0   \n",
       "\n",
       "               esc_mae  cod_ocup_mae  qtd_fil_vivo  qtd_fil_mort  ...  \\\n",
       "0          8 a 11 anos           NaN           0.0           0.0  ...   \n",
       "1          8 a 11 anos      999992.0           1.0           0.0  ...   \n",
       "2          8 a 11 anos      513205.0           2.0           0.0  ...   \n",
       "3      12 anos ou mais      231205.0           0.0           0.0  ...   \n",
       "4          8 a 11 anos      999992.0           1.0           0.0  ...   \n",
       "...                ...           ...           ...           ...  ...   \n",
       "27023  12 anos ou mais      333115.0           1.0           0.0  ...   \n",
       "27024      8 a 11 anos      999992.0           0.0           0.0  ...   \n",
       "27025      8 a 11 anos      421125.0           0.0           1.0  ...   \n",
       "27026      8 a 11 anos      999992.0           1.0           0.0  ...   \n",
       "27027      8 a 11 anos      999992.0           1.0           0.0  ...   \n",
       "\n",
       "        contador mun_res_status mun_res_tipo             mun_res_nome  \\\n",
       "0            1.0          ATIVO        MUNIC    Alta Floresta D'Oeste   \n",
       "1            2.0          ATIVO        MUNIC    Alta Floresta D'Oeste   \n",
       "2            3.0          ATIVO        MUNIC    Alta Floresta D'Oeste   \n",
       "3            4.0          ATIVO        MUNIC  Alto Alegre dos Parecis   \n",
       "4            5.0          ATIVO        MUNIC    Alta Floresta D'Oeste   \n",
       "...          ...            ...          ...                      ...   \n",
       "27023  2767632.0          ATIVO        MUNIC                  Vilhena   \n",
       "27024  2772678.0          ATIVO        MUNIC              Chupinguaia   \n",
       "27025  2776905.0          ATIVO        MUNIC                  Vilhena   \n",
       "27026  2777105.0          ATIVO        MUNIC                  Vilhena   \n",
       "27027  2780269.0          ATIVO        MUNIC  Novo Horizonte do Oeste   \n",
       "\n",
       "       mun_res_uf mun_res_lat  mun_res_lon mun_res_alt  mun_res_area  \\\n",
       "0        Rondônia   -11.93554    -61.99982       338.0      7067.025   \n",
       "1        Rondônia   -11.93554    -61.99982       338.0      7067.025   \n",
       "2        Rondônia   -11.93554    -61.99982       338.0      7067.025   \n",
       "3        Rondônia   -12.13178    -61.85308       397.0      3958.273   \n",
       "4        Rondônia   -11.93554    -61.99982       338.0      7067.025   \n",
       "...           ...         ...          ...         ...           ...   \n",
       "27023    Rondônia   -12.74137    -60.13858       595.0     11518.915   \n",
       "27024    Rondônia   -12.55684    -60.90185       340.0      5126.723   \n",
       "27025    Rondônia   -12.74137    -60.13858       595.0     11518.915   \n",
       "27026    Rondônia   -12.74137    -60.13858       595.0     11518.915   \n",
       "27027    Rondônia   -11.70974    -61.99439       230.0       843.446   \n",
       "\n",
       "       apgar_categoria  \n",
       "0               normal  \n",
       "1               normal  \n",
       "2               normal  \n",
       "3               normal  \n",
       "4               normal  \n",
       "...                ...  \n",
       "27023           normal  \n",
       "27024           normal  \n",
       "27025           normal  \n",
       "27026           normal  \n",
       "27027           normal  \n",
       "\n",
       "[27028 rows x 70 columns]"
      ]
     },
     "execution_count": 32,
     "metadata": {},
     "output_type": "execute_result"
    }
   ],
   "source": [
    "lista_lower = [i.lower() for i in lista]\n",
    "print(lista_lower)\n",
    "df_snake = pd.DataFrame(sinasc)\n",
    "df_snake.columns = lista_lower\n",
    "df_snake\n"
   ]
  },
  {
   "cell_type": "code",
   "execution_count": null,
   "metadata": {},
   "outputs": [],
   "source": []
  }
 ],
 "metadata": {
  "colab": {
   "collapsed_sections": [],
   "name": "Mod5Ex_aulas_01a03.ipynb",
   "provenance": []
  },
  "kernelspec": {
   "display_name": "Python 3 (ipykernel)",
   "language": "python",
   "name": "python3"
  },
  "language_info": {
   "codemirror_mode": {
    "name": "ipython",
    "version": 3
   },
   "file_extension": ".py",
   "mimetype": "text/x-python",
   "name": "python",
   "nbconvert_exporter": "python",
   "pygments_lexer": "ipython3",
   "version": "3.9.7"
  }
 },
 "nbformat": 4,
 "nbformat_minor": 1
}
